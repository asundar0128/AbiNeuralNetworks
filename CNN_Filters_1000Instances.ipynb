{
  "metadata": {
    "language_info": {
      "codemirror_mode": {
        "name": "python",
        "version": 3
      },
      "file_extension": ".py",
      "mimetype": "text/x-python",
      "name": "python",
      "nbconvert_exporter": "python",
      "pygments_lexer": "ipython3",
      "version": "3.8"
    },
    "kernelspec": {
      "name": "python",
      "display_name": "Pyolite",
      "language": "python"
    }
  },
  "nbformat_minor": 4,
  "nbformat": 4,
  "cells": [
    {
      "cell_type": "code",
      "source": "import pandas as pd\nimport matplotlib.pyplot as plt\n\nsmartgrid_data = pd.DataFrame({\n    'Regressor Types':['MAE', 'RMSE', 'R-squared'], \n    '256 filters (1000 instances)': [7.4244, 21.9028, 0.9957], \n    '6 filters (1000 instances)': [94.43568, 155.32884, 0.44546]})\nsmartgrid_data.plot(x = \"Regressor Types\", y=[\"256 filters (1000 instances)\", \"6 filters (1000 instances)\"], kind = \"bar\")\nplt.show()",
      "metadata": {
        "trusted": true
      },
      "execution_count": null,
      "outputs": []
    },
    {
      "cell_type": "code",
      "source": "",
      "metadata": {},
      "execution_count": null,
      "outputs": []
    }
  ]
}