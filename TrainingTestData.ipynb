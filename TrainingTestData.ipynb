{
  "metadata": {
    "language_info": {
      "codemirror_mode": {
        "name": "python",
        "version": 3
      },
      "file_extension": ".py",
      "mimetype": "text/x-python",
      "name": "python",
      "nbconvert_exporter": "python",
      "pygments_lexer": "ipython3",
      "version": "3.8"
    },
    "kernelspec": {
      "name": "python",
      "display_name": "Pyolite",
      "language": "python"
    }
  },
  "nbformat_minor": 4,
  "nbformat": 4,
  "cells": [
    {
      "cell_type": "code",
      "source": "from tensorflow.keras.datasets import AlcoholConsumption, CitieswithBestWorkLifeBalance, DataFruit, MonkeyDataSetCovid\n(x_train, y_train),(x_test, y_test) = AlchoholConsumption.load_data()\n(x_train2, y_train2),(x_test2, y_test2) = CitieswithBestWorkLifeBalance.load_data()\n(x_train3, y_train3),(x_test3, y_test3) = DataFruit.load_data()\n(x_train4, y_train4),(x_test4, y_test4) = MonkeyDataSetCovid.load_data()\nnum_classes = 15\n",
      "metadata": {
        "trusted": true
      },
      "execution_count": 1,
      "outputs": [
        {
          "ename": "<class 'ModuleNotFoundError'>",
          "evalue": "No module named 'tensorflow'",
          "traceback": [
            "\u001b[0;31m---------------------------------------------------------------------------\u001b[0m",
            "\u001b[0;31mModuleNotFoundError\u001b[0m                       Traceback (most recent call last)",
            "Input \u001b[0;32mIn [1]\u001b[0m, in \u001b[0;36m<cell line: 1>\u001b[0;34m()\u001b[0m\n\u001b[0;32m----> 1\u001b[0m \u001b[38;5;28;01mfrom\u001b[39;00m \u001b[38;5;21;01mtensorflow\u001b[39;00m\u001b[38;5;21;01m.\u001b[39;00m\u001b[38;5;21;01mkeras\u001b[39;00m\u001b[38;5;21;01m.\u001b[39;00m\u001b[38;5;21;01mdatasets\u001b[39;00m \u001b[38;5;28;01mimport\u001b[39;00m AlcoholConsumption, CitieswithBestWorkLifeBalance, DataFruit, MonkeyDataSetCovid\n\u001b[1;32m      2\u001b[0m (x_train, y_train),(x_test, y_test) \u001b[38;5;241m=\u001b[39m AlchoholConsumption\u001b[38;5;241m.\u001b[39mload_data()\n\u001b[1;32m      3\u001b[0m (x_train2, y_train2),(x_test2, y_test2) \u001b[38;5;241m=\u001b[39m CitieswithBestWorkLifeBalance\u001b[38;5;241m.\u001b[39mload_data()\n",
            "\u001b[0;31mModuleNotFoundError\u001b[0m: No module named 'tensorflow'"
          ],
          "output_type": "error"
        }
      ]
    },
    {
      "cell_type": "code",
      "source": "",
      "metadata": {},
      "execution_count": null,
      "outputs": []
    }
  ]
}