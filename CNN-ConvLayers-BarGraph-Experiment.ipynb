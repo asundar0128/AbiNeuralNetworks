{
  "metadata": {
    "language_info": {
      "codemirror_mode": {
        "name": "python",
        "version": 3
      },
      "file_extension": ".py",
      "mimetype": "text/x-python",
      "name": "python",
      "nbconvert_exporter": "python",
      "pygments_lexer": "ipython3",
      "version": "3.8"
    },
    "kernelspec": {
      "name": "python",
      "display_name": "Pyolite",
      "language": "python"
    }
  },
  "nbformat_minor": 4,
  "nbformat": 4,
  "cells": [
    {
      "cell_type": "code",
      "source": "import pandas as pd\nimport matplotlib.pyplot as plt\n\nsmartgrid_dataExperiment = pd.DataFrame({\n    'Regressor Types': ['R squared', 'RMSE', 'MAE'],\n    '1 conv layer': [0.9934, 23.5432, 16.4356],\n    '3 conv layer': [0.9942, 22.4356, 15.3498]})\nsmartgrid_dataExperiment.plot(x = \"Regressor Types\", y=[\"1 conv layer\", \"3 conv layer\"], kind = \"bar\")\nplt.show()",
      "metadata": {
        "trusted": true
      },
      "execution_count": null,
      "outputs": []
    },
    {
      "cell_type": "code",
      "source": "",
      "metadata": {},
      "execution_count": null,
      "outputs": []
    }
  ]
}