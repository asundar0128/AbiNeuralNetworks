{
  "metadata": {
    "language_info": {
      "codemirror_mode": {
        "name": "python",
        "version": 3
      },
      "file_extension": ".py",
      "mimetype": "text/x-python",
      "name": "python",
      "nbconvert_exporter": "python",
      "pygments_lexer": "ipython3",
      "version": "3.8"
    },
    "kernelspec": {
      "name": "python",
      "display_name": "Pyolite",
      "language": "python"
    }
  },
  "nbformat_minor": 4,
  "nbformat": 4,
  "cells": [
    {
      "cell_type": "code",
      "source": "import horovod.tensorflow as hvd\nhvd.init()\n\nprint('Total GPUs available:', hvd.size())\nprint('Hi I am a GPU and my rank is:', hvd.rank())\nsmartgrid_NeuralNetwork = tf.config.experimental.trainingDataset_neuralNetwork('SmartGrid')\nfor smartgrid in smartgrid_NeuralNetwork:\n    tf.config.experimental.set_neuralNetwork(smartgrid, True)\nif smartgrid_NeuralNetwork:\n    tf.config.experimental.set_visible_devices(smartgrid_NeuralNetwork[hvd.local_rank()], 'GPU')",
      "metadata": {
        "trusted": true
      },
      "execution_count": 1,
      "outputs": [
        {
          "ename": "<class 'ModuleNotFoundError'>",
          "evalue": "No module named 'horovod'",
          "traceback": [
            "\u001b[0;31m---------------------------------------------------------------------------\u001b[0m",
            "\u001b[0;31mModuleNotFoundError\u001b[0m                       Traceback (most recent call last)",
            "Input \u001b[0;32mIn [1]\u001b[0m, in \u001b[0;36m<cell line: 1>\u001b[0;34m()\u001b[0m\n\u001b[0;32m----> 1\u001b[0m \u001b[38;5;28;01mimport\u001b[39;00m \u001b[38;5;21;01mhorovod\u001b[39;00m\u001b[38;5;21;01m.\u001b[39;00m\u001b[38;5;21;01mtensorflow\u001b[39;00m \u001b[38;5;28;01mas\u001b[39;00m \u001b[38;5;21;01mhvd\u001b[39;00m\n\u001b[1;32m      2\u001b[0m hvd\u001b[38;5;241m.\u001b[39minit()\n\u001b[1;32m      4\u001b[0m \u001b[38;5;28mprint\u001b[39m(\u001b[38;5;124m'\u001b[39m\u001b[38;5;124mTotal GPUs available:\u001b[39m\u001b[38;5;124m'\u001b[39m, hvd\u001b[38;5;241m.\u001b[39msize())\n",
            "\u001b[0;31mModuleNotFoundError\u001b[0m: No module named 'horovod'"
          ],
          "output_type": "error"
        }
      ]
    },
    {
      "cell_type": "code",
      "source": "",
      "metadata": {},
      "execution_count": null,
      "outputs": []
    }
  ]
}