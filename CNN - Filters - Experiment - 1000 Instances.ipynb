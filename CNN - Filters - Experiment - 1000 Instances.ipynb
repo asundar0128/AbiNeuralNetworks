{
  "metadata": {
    "language_info": {
      "codemirror_mode": {
        "name": "python",
        "version": 3
      },
      "file_extension": ".py",
      "mimetype": "text/x-python",
      "name": "python",
      "nbconvert_exporter": "python",
      "pygments_lexer": "ipython3",
      "version": "3.8"
    },
    "kernelspec": {
      "name": "python",
      "display_name": "Python (Pyodide)",
      "language": "python"
    }
  },
  "nbformat_minor": 4,
  "nbformat": 4,
  "cells": [
    {
      "cell_type": "code",
      "source": "import pandas as pd\nimport matplotlib.pyplot as plt\n\nsmartgrid_dataExperiment = pd.DataFrame({\n    'Regressor Types': ['R squared', 'RMSE', 'MAE'],\n    '256 filters (1000 instances)': [0.9876, 19.3457, 6.4321],\n    '6 filters (1000 instances)': [0.56938, 87.98654, 65.43218]})\nsmartgrid_dataExperiment.plot(x=\"Regressor Types\", y=[\"256 filters (1000 instances)\", \"6 filters (1000 instances)\"], kind = \"bar\")\nplt.show()",
      "metadata": {
        "trusted": true
      },
      "execution_count": null,
      "outputs": []
    }
  ]
}