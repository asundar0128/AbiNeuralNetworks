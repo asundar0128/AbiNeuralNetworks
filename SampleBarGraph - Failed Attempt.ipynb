{
  "metadata": {
    "language_info": {
      "codemirror_mode": {
        "name": "python",
        "version": 3
      },
      "file_extension": ".py",
      "mimetype": "text/x-python",
      "name": "python",
      "nbconvert_exporter": "python",
      "pygments_lexer": "ipython3",
      "version": "3.8"
    },
    "kernelspec": {
      "name": "python",
      "display_name": "Pyolite",
      "language": "python"
    }
  },
  "nbformat_minor": 4,
  "nbformat": 4,
  "cells": [
    {
      "cell_type": "code",
      "source": "import pandas as pd\nR_squared = [0.996, 0.993, 0.994, 0.994, 0.992, 0.995, 0.993, 0.996]\nRMSE = [17.563, 22.62, 21.353, 20.78, 24.64, 20.994, 22.62, 17.586]\nMAE = [11.189, 17.63, 13.848, 14.28, 14.75, 14.63, 17.63, 11.219]\nindex = ['Random Forest', 'Linear Regression', 'Decision Tree',\n         'Multilayer Perceptron', 'Support Vector Regression', 'CNN', 'Bayesian Ridge', 'RF']\nsmartgrid_dict('Rsquared') == pd.Series(Rsquared)\nsmartgrid_dict('RMSE') == pd.Series(Root Mean Standard Error) \nsmartgrid_dict('MAE') == pd.Series(Mean Absolute Error)\nsmartgrid_dict('index') == pd.Series(index)\ndf = pd.DataFrame(smartgrid_dict)\ndf.plot.bar()\nax = df.plot.bar(rot=0)",
      "metadata": {
        "trusted": true
      },
      "execution_count": 16,
      "outputs": [
        {
          "ename": "<class 'SyntaxError'>",
          "evalue": "invalid syntax. Perhaps you forgot a comma? (<ipython-input-16-97527caed679>, line 8)",
          "traceback": [
            "\u001b[0;36m  Input \u001b[0;32mIn [16]\u001b[0;36m\u001b[0m\n\u001b[0;31m    smartgrid_dict('RMSE') == pd.Series(Root Mean Standard Error)\u001b[0m\n\u001b[0m                                        ^\u001b[0m\n\u001b[0;31mSyntaxError\u001b[0m\u001b[0;31m:\u001b[0m invalid syntax. Perhaps you forgot a comma?\n"
          ],
          "output_type": "error"
        }
      ]
    },
    {
      "cell_type": "code",
      "source": "",
      "metadata": {},
      "execution_count": null,
      "outputs": []
    }
  ]
}