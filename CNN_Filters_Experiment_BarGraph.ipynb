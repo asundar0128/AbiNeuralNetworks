{
  "metadata": {
    "language_info": {
      "codemirror_mode": {
        "name": "python",
        "version": 3
      },
      "file_extension": ".py",
      "mimetype": "text/x-python",
      "name": "python",
      "nbconvert_exporter": "python",
      "pygments_lexer": "ipython3",
      "version": "3.8"
    },
    "kernelspec": {
      "name": "python",
      "display_name": "Pyolite",
      "language": "python"
    }
  },
  "nbformat_minor": 4,
  "nbformat": 4,
  "cells": [
    {
      "cell_type": "code",
      "source": "import pandas as pd\nimport matplotlib.pyplot as plt\n\nsmartgrid_data = pd.DataFrame({\n    'Regressor Types':['MAE', 'RMSE', 'R-squared'],\n    '256 filters':[14.5678, 22.4489, 0.9937],\n    '6 filters':[16.7832, 24.8723, 0.9921]})\nsmartgrid_data.plot(x=\"Regressor Types\", y=[\"256 filters\", \"6 filters\"], kind=\"bar\")\nplt.show()",
      "metadata": {
        "trusted": true
      },
      "execution_count": null,
      "outputs": []
    },
    {
      "cell_type": "code",
      "source": "",
      "metadata": {},
      "execution_count": null,
      "outputs": []
    }
  ]
}