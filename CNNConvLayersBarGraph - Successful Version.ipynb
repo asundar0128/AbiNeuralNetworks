{
  "metadata": {
    "language_info": {
      "codemirror_mode": {
        "name": "python",
        "version": 3
      },
      "file_extension": ".py",
      "mimetype": "text/x-python",
      "name": "python",
      "nbconvert_exporter": "python",
      "pygments_lexer": "ipython3",
      "version": "3.8"
    },
    "kernelspec": {
      "name": "python",
      "display_name": "Pyolite",
      "language": "python"
    }
  },
  "nbformat_minor": 4,
  "nbformat": 4,
  "cells": [
    {
      "cell_type": "code",
      "source": "import pandas as pd\nimport matplotlib.pyplot as plt\n\nsmartgrid_data = pd.DataFrame({\n    'Regressor Types':['MAE', 'RMSE', 'R-squared'], \n    '1 conv layer': [14.7687, 21.6909, 0.9943], \n    '3 conv layer': [13.6754, 20.8388, 0.9953]})\nsmartgrid_data.plot(x = \"Regressor Types\", y=[\"1 conv layer\", \"3 conv layer\"], kind = \"bar\")\nplt.show()",
      "metadata": {
        "trusted": true
      },
      "execution_count": null,
      "outputs": []
    }
  ]
}