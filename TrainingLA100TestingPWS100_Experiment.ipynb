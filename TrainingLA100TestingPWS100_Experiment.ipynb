{
  "metadata": {
    "language_info": {
      "codemirror_mode": {
        "name": "python",
        "version": 3
      },
      "file_extension": ".py",
      "mimetype": "text/x-python",
      "name": "python",
      "nbconvert_exporter": "python",
      "pygments_lexer": "ipython3",
      "version": "3.8"
    },
    "kernelspec": {
      "name": "python",
      "display_name": "Pyolite",
      "language": "python"
    }
  },
  "nbformat_minor": 4,
  "nbformat": 4,
  "cells": [
    {
      "cell_type": "code",
      "source": "import numpy as np\nimport pandas as pd\nimport matplotlib.pyplot as plt\n\nsmartgrid_regressors = ['R-squared', 'RMSE', 'MAE', 'Time']\nsmartgrid_randomForest = [0.956, 63.432, 45.321, 3.214]\nsmartgrid_decisionTree = [0.976, 72.171, 50.044, 0.012]\nsmartgrid_supportVector = [0.935, 72.554, 41.644, 92.403]\nsmartgrid_bayesianRidge = [0.938, 70.469, 46.382, 0.002]\nsmartgrid_linearRegression = [0.948, 65.532, 43.321, 0.002]\nsmartgrid_CNN = [0.953, 62.542, 43.321, 1.987]\n\nx_axis = np.arange(len(smartgrid_regressors))\n\nplt.bar(x_axis - 0.2, smartgrid_randomForest, width = 0.3, linewidth = 3, label = 'Random Forest')\nplt.bar(x_axis + 0.2, smartgrid_decisionTree, width = 0.3, linewidth = 3, label = 'Decision Tree')\nplt.bar(x_axis - 0.4, smartgrid_supportVector, width = 0.3, linewidth = 3, label = 'Support Vector Regressor')\nplt.bar(x_axis + 0.4, smartgrid_bayesianRidge, width = 0.3, linewidth = 3, label = 'Bayesian Ridge')\nplt.bar(x_axis - 0.6, smartgrid_linearRegression, width = 0.3, linewidth = 0, label = 'Linear Regression')\nplt.bar(x_axis - 0.8, smartgrid_CNN, width = 0.3, linewidth = 0, label = 'CNN')\n\nplt.title(\"Training on LA (100828, 15) Testing on PWS (68924, 15)\")\nplt.xticks(x_axis, smartgrid_regressors)\nplt.tight_layout()\nplt.legend()\nplt.show()",
      "metadata": {},
      "execution_count": null,
      "outputs": []
    }
  ]
}