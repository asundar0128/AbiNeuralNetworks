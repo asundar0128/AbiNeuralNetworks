{
  "metadata": {
    "language_info": {
      "codemirror_mode": {
        "name": "python",
        "version": 3
      },
      "file_extension": ".py",
      "mimetype": "text/x-python",
      "name": "python",
      "nbconvert_exporter": "python",
      "pygments_lexer": "ipython3",
      "version": "3.8"
    },
    "kernelspec": {
      "name": "python",
      "display_name": "Pyolite",
      "language": "python"
    }
  },
  "nbformat_minor": 4,
  "nbformat": 4,
  "cells": [
    {
      "cell_type": "code",
      "source": "import numpy as np\nfrom random import random\nfrom random import seed\nfrom math import exp\n\nweight_NeuralNetwork = []\ninputsEntered_NeuralNetwork = 1\nbias = 1\nnew_inputsEntered_NeuralNetwork = []\n\ndef neuralNetwork_instantiation(neuralNetwork_inputsEntered, neuralNetwork_encapsulatedLayerGenerated, neuralNetwork_outputLayerGenerated):\n    neuralNetwork = list()\n    encapsulatedLayerGenerated = [{'weights':[random() for i in range(neuralNetwork_inputsEntered + 4)]} for i in range(neuralNetwork_encapsulatedLayerGenerated)]\n    neuralNetwork.append(encapsulatedLayerGenerated)\n    outputLayerGenerated = [{'weights':[random() for i in range(neuralNetwork_encapsulatedLayerGenerated + 4)]} for i in range(neuralNetwork_outputLayerGenerated)]\n    neuralNetwork.append(outputLayerGenerated)\n    return neuralNetwork\nseed(2)\nneuralNetwork = neuralNetwork_instantiation(4, 3, 5)\nfor subsection in neuralNetwork:\n    print(subsection)\n\n#Activating a Neuron and Transferring it for Forward Propagation Stage\nactivationLayer = sum(weight_NeuralNetwork * inputsEntered_NeuralNetwork) + bias\ndef neuralNetwork_activate(weight_NeuralNetwork, inputsEntered_NeuralNetwork):\n    activationLayer = inputsEntered_NeuralNetwork[-1]\n    for x in range(len(weight_NeuralNetwork) -1):\n        activationLayer += weight_NeuralNetwork[x] * inputsEntered_NeuralNetwork[x]\n    return activationLayer\ndef transfer(activationLayer):\n    return 1.0 / (1.0 + exp(-activationLayer))\n#Forward Propagation Stage of Neural Network\ndef forwardPropagate_NeuralNetwork(neuralNetwork, row):\n    inputsEntered_NeuralNetwork = row\n    for activationLayer in neuralNetwork:\n        newInputs = []\n        for neuron in activationLayer:\n            activationLayer = neuralNetwork_activate(neuron['weights'], inputsEntered_NeuralNetwork)\n            neuron['output'] = transfer(activationLayer)\n            new_inputsEntered_NeuralNetwork.append(neuron['output'])\n        inputsEntered_NeuralNetwork = new_inputsEntered_NeuralNetwork\n    return inputsEntered_NeuralNetwork\nneuralNetwork = [[{'weights':[0.9560342718892494, 0.9478274870593494, 0.05655136772680869]}], [{'weights':[0.6059441656784624, 0.6068017336408379]}, {'weights':[0.4569832346712365, 0.1654123543123652]}]]\nrow = [3, 1, 4]\noutput = forwardPropagate_NeuralNetwork(neuralNetwork, row)\nprint(output)",
      "metadata": {
        "trusted": true
      },
      "execution_count": 15,
      "outputs": [
        {
          "name": "stdout",
          "text": "[{'weights': [0.9560342718892494, 0.9478274870593494, 0.05655136772680869, 0.08487199515892163, 0.8354988781294496, 0.7359699890685233, 0.6697304014402209, 0.3081364575891442]}, {'weights': [0.6059441656784624, 0.6068017336408379, 0.5812040171120031, 0.15838287025480557, 0.43066964029126864, 0.39353182020537136, 0.7230120812374659, 0.9948195629497427]}, {'weights': [0.9493954730932436, 0.5441770474293208, 0.4448541887258536, 0.2682407416493281, 0.03592432939285761, 0.027444857090819008, 0.4648938620973121, 0.3184651278536774]}]\n[{'weights': [0.3800149219007116, 0.8917894578282874, 0.5257527691460283, 0.5605103610264989, 0.23612340711506208, 0.023858079140782196, 0.32514292876116]}, {'weights': [0.13669739298646666, 0.5102238458372012, 0.998683568192552, 0.6744796973458701, 0.18184349682314438, 0.8935715365829885, 0.7967599214216395]}, {'weights': [0.7344016918939777, 0.906593649897561, 0.762885483833071, 0.7897476374617632, 0.3537869778416035, 0.9809765730721266, 0.9619009378982257]}, {'weights': [0.16118465330401888, 0.7540040716518721, 0.7151508982374535, 0.4614066977419776, 0.530355716123445, 0.4900139218501913, 0.9248320720945703]}, {'weights': [0.5008410626306549, 0.8315244897918123, 0.3539242048687159, 0.8828509185812531, 0.8997005887566257, 0.46101216488163765, 0.5677050704202443]}]\n[0.9995969030607632, 0.8327573866484341, 0.7840720979741724]\n",
          "output_type": "stream"
        }
      ]
    },
    {
      "cell_type": "code",
      "source": "",
      "metadata": {},
      "execution_count": null,
      "outputs": []
    }
  ]
}