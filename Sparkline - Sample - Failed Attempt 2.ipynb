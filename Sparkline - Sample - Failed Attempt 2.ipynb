{
  "metadata": {
    "language_info": {
      "codemirror_mode": {
        "name": "python",
        "version": 3
      },
      "file_extension": ".py",
      "mimetype": "text/x-python",
      "name": "python",
      "nbconvert_exporter": "python",
      "pygments_lexer": "ipython3",
      "version": "3.8"
    },
    "kernelspec": {
      "name": "python",
      "display_name": "Pyolite",
      "language": "python"
    }
  },
  "nbformat_minor": 4,
  "nbformat": 4,
  "cells": [
    {
      "cell_type": "code",
      "source": "import numpy as np\nimport pandas as pd\nfrom scipy import stats\nimport matplotlib.pyplot as plt\n%matplotlib inline\n\nimport sparklines\n\ndensity_func = 78\nmean, var, skew, kurt = stats.chi.stats(density_func, moments='mvsk')\nx_chi = np.linspace(stats.chi.ppf(0.01, density_func),\n                    stats.chi.ppf(0.99, density_func), 100)\ny_chi = stats.chi.pdf(x_chi, density_func)\n\nx_expon = np.linspace(stats.expon.ppf(0.01), stats.expon.ppf(0.99), 100)\ny_expon = stats.expon.pdf(x_expon)\n\na_gamma = 1.99\nx_gamma = np.linspace(stats.gamma.ppf(0.01, a_gamma),\n                      stats.gamma.ppf(0.99, a_gamma), 100)\ny_gamma = stats.gamma.pdf(x_gamma, a_gamma)\n\nn = 100\n\nnp.random.seed(0)\n\ndata = [np.random.rand(n), \n        np.random.randn(n), \n        np.random.beta(2, 1, size=n), \n        np.random.binomial(3.4, 0.22, size=n), \n        np.random.exponential(size=n),\n        np.random.geometric(0.5, size=n), \n        np.random.laplace(size=n), \n        y_chi, \n        y_expon, \n        y_gamma]\n\nfunction = ['rand',\n            'randn',\n            'beta',\n            'binomial',\n            'exponential',\n            'geometric',\n            'laplace',\n            'chi',\n            'expon',\n            'gamma']\ndf = pd.DataFrame(data)\ndf['function'] = function\n\ndf\n",
      "metadata": {
        "trusted": true
      },
      "execution_count": 1,
      "outputs": [
        {
          "ename": "<class 'ModuleNotFoundError'>",
          "evalue": "No module named 'sparklines'",
          "traceback": [
            "\u001b[0;31m---------------------------------------------------------------------------\u001b[0m",
            "\u001b[0;31mModuleNotFoundError\u001b[0m                       Traceback (most recent call last)",
            "Input \u001b[0;32mIn [1]\u001b[0m, in \u001b[0;36m<cell line: 7>\u001b[0;34m()\u001b[0m\n\u001b[1;32m      4\u001b[0m \u001b[38;5;28;01mimport\u001b[39;00m \u001b[38;5;21;01mmatplotlib\u001b[39;00m\u001b[38;5;21;01m.\u001b[39;00m\u001b[38;5;21;01mpyplot\u001b[39;00m \u001b[38;5;28;01mas\u001b[39;00m \u001b[38;5;21;01mplt\u001b[39;00m\n\u001b[1;32m      5\u001b[0m get_ipython()\u001b[38;5;241m.\u001b[39mrun_line_magic(\u001b[38;5;124m'\u001b[39m\u001b[38;5;124mmatplotlib\u001b[39m\u001b[38;5;124m'\u001b[39m, \u001b[38;5;124m'\u001b[39m\u001b[38;5;124minline\u001b[39m\u001b[38;5;124m'\u001b[39m)\n\u001b[0;32m----> 7\u001b[0m \u001b[38;5;28;01mimport\u001b[39;00m \u001b[38;5;21;01msparklines\u001b[39;00m\n\u001b[1;32m      9\u001b[0m density_func \u001b[38;5;241m=\u001b[39m \u001b[38;5;241m78\u001b[39m\n\u001b[1;32m     10\u001b[0m mean, var, skew, kurt \u001b[38;5;241m=\u001b[39m stats\u001b[38;5;241m.\u001b[39mchi\u001b[38;5;241m.\u001b[39mstats(density_func, moments\u001b[38;5;241m=\u001b[39m\u001b[38;5;124m'\u001b[39m\u001b[38;5;124mmvsk\u001b[39m\u001b[38;5;124m'\u001b[39m)\n",
            "\u001b[0;31mModuleNotFoundError\u001b[0m: No module named 'sparklines'"
          ],
          "output_type": "error"
        }
      ]
    },
    {
      "cell_type": "code",
      "source": "",
      "metadata": {},
      "execution_count": null,
      "outputs": []
    }
  ]
}