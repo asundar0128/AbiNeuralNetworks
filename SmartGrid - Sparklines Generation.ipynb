{
  "metadata": {
    "language_info": {
      "codemirror_mode": {
        "name": "python",
        "version": 3
      },
      "file_extension": ".py",
      "mimetype": "text/x-python",
      "name": "python",
      "nbconvert_exporter": "python",
      "pygments_lexer": "ipython3",
      "version": "3.8"
    },
    "kernelspec": {
      "name": "python",
      "display_name": "Pyolite",
      "language": "python"
    }
  },
  "nbformat_minor": 4,
  "nbformat": 4,
  "cells": [
    {
      "cell_type": "code",
      "source": "import matplotlib.pyplot as plt\nimport numpy as np\nfrom sparklines import SparkLine\naxis = plt.subplot(111)\nsparklineGeneration = SparkLine('Line Number', np.random.randint(100, 500, size=100))\nsparklineGeneration.plot(axis)\nplt.show()\nnumber_of_plots = 10\nplt.figure(figsize=(6, 4))\nfor i in range(1, number_of_plots + 1):\n    axis = plt.subplot(number_of_plots, 1, i)\nintValues = np.random.randint(100, 500, size=100)\nsparklineGeneration = SparkLine('line-{}'.format(i), intValues)\nsparklineGeneration.plot(axis)\ntrendlineGeneration = TrendLine('line-{}'.format(i), intValues)\ntrendlineGeneration.plot(axis)\nplt.show()",
      "metadata": {
        "trusted": true
      },
      "execution_count": 3,
      "outputs": [
        {
          "ename": "<class 'ModuleNotFoundError'>",
          "evalue": "No module named 'sparklines'",
          "traceback": [
            "\u001b[0;31m---------------------------------------------------------------------------\u001b[0m",
            "\u001b[0;31mModuleNotFoundError\u001b[0m                       Traceback (most recent call last)",
            "Input \u001b[0;32mIn [3]\u001b[0m, in \u001b[0;36m<cell line: 3>\u001b[0;34m()\u001b[0m\n\u001b[1;32m      1\u001b[0m \u001b[38;5;28;01mimport\u001b[39;00m \u001b[38;5;21;01mmatplotlib\u001b[39;00m\u001b[38;5;21;01m.\u001b[39;00m\u001b[38;5;21;01mpyplot\u001b[39;00m \u001b[38;5;28;01mas\u001b[39;00m \u001b[38;5;21;01mplt\u001b[39;00m\n\u001b[1;32m      2\u001b[0m \u001b[38;5;28;01mimport\u001b[39;00m \u001b[38;5;21;01mnumpy\u001b[39;00m \u001b[38;5;28;01mas\u001b[39;00m \u001b[38;5;21;01mnp\u001b[39;00m\n\u001b[0;32m----> 3\u001b[0m \u001b[38;5;28;01mfrom\u001b[39;00m \u001b[38;5;21;01msparklines\u001b[39;00m \u001b[38;5;28;01mimport\u001b[39;00m SparkLine\n\u001b[1;32m      4\u001b[0m axis \u001b[38;5;241m=\u001b[39m plt\u001b[38;5;241m.\u001b[39msubplot(\u001b[38;5;241m111\u001b[39m)\n\u001b[1;32m      5\u001b[0m sparklineGeneration \u001b[38;5;241m=\u001b[39m SparkLine(\u001b[38;5;124m'\u001b[39m\u001b[38;5;124mLine Number\u001b[39m\u001b[38;5;124m'\u001b[39m, np\u001b[38;5;241m.\u001b[39mrandom\u001b[38;5;241m.\u001b[39mrandint(\u001b[38;5;241m100\u001b[39m, \u001b[38;5;241m500\u001b[39m, size\u001b[38;5;241m=\u001b[39m\u001b[38;5;241m100\u001b[39m))\n",
            "\u001b[0;31mModuleNotFoundError\u001b[0m: No module named 'sparklines'"
          ],
          "output_type": "error"
        }
      ]
    },
    {
      "cell_type": "code",
      "source": "",
      "metadata": {},
      "execution_count": null,
      "outputs": []
    }
  ]
}