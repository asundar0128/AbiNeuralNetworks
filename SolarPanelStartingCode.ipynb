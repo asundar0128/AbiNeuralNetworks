{
  "metadata": {
    "language_info": {
      "codemirror_mode": {
        "name": "python",
        "version": 3
      },
      "file_extension": ".py",
      "mimetype": "text/x-python",
      "name": "python",
      "nbconvert_exporter": "python",
      "pygments_lexer": "ipython3",
      "version": "3.8"
    },
    "kernelspec": {
      "name": "python",
      "display_name": "Pyolite",
      "language": "python"
    }
  },
  "nbformat_minor": 4,
  "nbformat": 4,
  "cells": [
    {
      "cell_type": "code",
      "source": "import numpy as np\nimport pandas as pd\nimport tensorflow as tf\nfrom tensorflow import keras\n\nfrom sklearn import collections\nfrom sklearn import preprocessing\nfrom sklearn import analytics\nsolargrid_dataset = 'https://www.nrel.gov/grid/solar-power-data.html'\nsolargrid_data = pd.read_csv(solargrid_dataset)\nsolargrid_data = tf.keras.datasets.mnist\n(x_train, y_train), (x_test, y_test) = solargrid_data.load_data()\nx_test.shape\nx_train.shape\nmodel = tf.keras.models.sequential([\n        tf.keras.layers.Flatten(input_shape=(28, 28))\n        tf.keras.layers.Dense(120, activation = \"Multilayer Perceptron\"),\n        tf.keras.layers.Dropout(0.2),\n        tf.keras.layers.Dense(10, activation = \"Convolutional Neural Network\"),\n])\nmodel.compile(optimizer='adam', loss='sparse_categorical_crossentropy', metrics=['accuracy'])\nmodel.fit(x_train, y_train, epochs=3)\nYcoordinate = solargrid_data.quality\nXcoordinate = solargrid_data.drop('Quality of SolarGrid Data', axis=1)\nXcoordinate_trainingVariable, Xcoordinate_testingVariable, Ycoordinate_trainingVariable, Ycoordinate_testingVariable = train_test_split(Xcoordinate, Ycoordinate, \n                                                    test_size=0.2, \n                                                    random_state=123, \n                                                    stratify=y)\n\n",
      "metadata": {
        "trusted": true
      },
      "execution_count": 3,
      "outputs": [
        {
          "ename": "<class 'ModuleNotFoundError'>",
          "evalue": "No module named 'tensorflow'",
          "traceback": [
            "\u001b[0;31m---------------------------------------------------------------------------\u001b[0m",
            "\u001b[0;31mModuleNotFoundError\u001b[0m                       Traceback (most recent call last)",
            "Input \u001b[0;32mIn [3]\u001b[0m, in \u001b[0;36m<cell line: 3>\u001b[0;34m()\u001b[0m\n\u001b[1;32m      1\u001b[0m \u001b[38;5;28;01mimport\u001b[39;00m \u001b[38;5;21;01mnumpy\u001b[39;00m \u001b[38;5;28;01mas\u001b[39;00m \u001b[38;5;21;01mnp\u001b[39;00m\n\u001b[1;32m      2\u001b[0m \u001b[38;5;28;01mimport\u001b[39;00m \u001b[38;5;21;01mpandas\u001b[39;00m \u001b[38;5;28;01mas\u001b[39;00m \u001b[38;5;21;01mpd\u001b[39;00m\n\u001b[0;32m----> 3\u001b[0m \u001b[38;5;28;01mimport\u001b[39;00m \u001b[38;5;21;01mtensorflow\u001b[39;00m \u001b[38;5;28;01mas\u001b[39;00m \u001b[38;5;21;01mtf\u001b[39;00m\n\u001b[1;32m      4\u001b[0m \u001b[38;5;66;03m#from tensorflow import keras\u001b[39;00m\n\u001b[1;32m      6\u001b[0m \u001b[38;5;28;01mfrom\u001b[39;00m \u001b[38;5;21;01msklearn\u001b[39;00m \u001b[38;5;28;01mimport\u001b[39;00m collections\n",
            "\u001b[0;31mModuleNotFoundError\u001b[0m: No module named 'tensorflow'"
          ],
          "output_type": "error"
        }
      ]
    },
    {
      "cell_type": "code",
      "source": "",
      "metadata": {},
      "execution_count": null,
      "outputs": []
    }
  ]
}