{
  "metadata": {
    "language_info": {
      "codemirror_mode": {
        "name": "python",
        "version": 3
      },
      "file_extension": ".py",
      "mimetype": "text/x-python",
      "name": "python",
      "nbconvert_exporter": "python",
      "pygments_lexer": "ipython3",
      "version": "3.8"
    },
    "kernelspec": {
      "name": "python",
      "display_name": "Pyolite",
      "language": "python"
    }
  },
  "nbformat_minor": 4,
  "nbformat": 4,
  "cells": [
    {
      "cell_type": "code",
      "source": "import random\nimport numpy as np\nimport pandas as pd\nimport matplotlib\nimport matplotlib.pyplot as plt\nimport itertools as it\n\nmaxScatter = 200\nsampleCount = int(input(\"Enter number of samples: \"))\nlevel1Count = int(input(\"Top Level Unique Values: \"))\nlevel2Count = int(input(\"Second Level Unique Values: \"))\nlevel3Count = int(input(\"Third Level Unique Values: \"))\nlevel1 = [\"Level1-{}\".format(i) for i in range(level1Count)]\nlevel2 = [\"Level2-{}\".format(i) for i in range(level2Count)]\nlevel3 = [\"Level3-{}\".format(i) for i in range(level3Count)]\ndef genRandomChoice(l, size):\n    for _ in range(size):\n        yield random.choice(l)\ndef genRandInt(s,e,size):\n    for _ in range(size):\n        yield random.randint(s,e)\nquerytime = pd.DataFrame({'level1':list(genRandomChoice(level1,sampleCount)),\n                    'level2':list(genRandomChoice(level2,sampleCount)), 'level3':list(genRandomChoice(level3, sampleCount)), \n                    'responseMS':list(genRandInt(5,5000,sampleCount))})\n'''querytime.sample(3)\n.dataframe tbody tr th {\n    vertical-align: top;\n}\n\n.dataframe thead th {\n    text-align: right;\n}'''\nsboxplot = sns.boxplot(y='responseMS', x='level1', \n                 data=querytime, \n                 width=0.5,\n                 palette=\"colorblind\")\n\n#if there are too many points, then don't bother with the scatter.  It'll be saturated.\nif(len(querytime) <= maxScatter):\n    # add stripplot to boxplot with Seaborn\n    sboxplot=sns.stripplot(y='responseMS', x='level1', \n                       data=querytime, \n                       jitter=True, \n                       marker='o', \n                       alpha=0.5,\n                       color='black')\n    \nplt.title(\"Seaborn box plt one category with strip plot\")\nplt.suptitle(\"\")\nplt.xlabel(\"test type\")\nplt.ylabel(\"response time (ms)\")\nplt.show()",
      "metadata": {
        "trusted": true
      },
      "execution_count": 9,
      "outputs": [
        {
          "ename": "<class 'TypeError'>",
          "evalue": "int() argument must be a string, a bytes-like object or a real number, not 'Future'",
          "traceback": [
            "\u001b[0;31m---------------------------------------------------------------------------\u001b[0m",
            "\u001b[0;31mTypeError\u001b[0m                                 Traceback (most recent call last)",
            "Input \u001b[0;32mIn [9]\u001b[0m, in \u001b[0;36m<cell line: 9>\u001b[0;34m()\u001b[0m\n\u001b[1;32m      6\u001b[0m \u001b[38;5;28;01mimport\u001b[39;00m \u001b[38;5;21;01mitertools\u001b[39;00m \u001b[38;5;28;01mas\u001b[39;00m \u001b[38;5;21;01mit\u001b[39;00m\n\u001b[1;32m      8\u001b[0m maxScatter \u001b[38;5;241m=\u001b[39m \u001b[38;5;241m200\u001b[39m\n\u001b[0;32m----> 9\u001b[0m sampleCount \u001b[38;5;241m=\u001b[39m \u001b[38;5;28;43mint\u001b[39;49m\u001b[43m(\u001b[49m\u001b[38;5;28;43minput\u001b[39;49m\u001b[43m(\u001b[49m\u001b[38;5;124;43m\"\u001b[39;49m\u001b[38;5;124;43mEnter number of samples: \u001b[39;49m\u001b[38;5;124;43m\"\u001b[39;49m\u001b[43m)\u001b[49m\u001b[43m)\u001b[49m\n\u001b[1;32m     10\u001b[0m level1Count \u001b[38;5;241m=\u001b[39m \u001b[38;5;28mint\u001b[39m(\u001b[38;5;28minput\u001b[39m(\u001b[38;5;124m\"\u001b[39m\u001b[38;5;124mTop Level Unique Values: \u001b[39m\u001b[38;5;124m\"\u001b[39m))\n\u001b[1;32m     11\u001b[0m level2Count \u001b[38;5;241m=\u001b[39m \u001b[38;5;28mint\u001b[39m(\u001b[38;5;28minput\u001b[39m(\u001b[38;5;124m\"\u001b[39m\u001b[38;5;124mSecond Level Unique Values: \u001b[39m\u001b[38;5;124m\"\u001b[39m))\n",
            "\u001b[0;31mTypeError\u001b[0m: int() argument must be a string, a bytes-like object or a real number, not 'Future'"
          ],
          "output_type": "error"
        }
      ]
    },
    {
      "cell_type": "code",
      "source": "",
      "metadata": {},
      "execution_count": null,
      "outputs": []
    }
  ]
}